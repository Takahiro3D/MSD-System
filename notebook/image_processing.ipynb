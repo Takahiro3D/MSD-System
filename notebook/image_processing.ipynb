{
 "cells": [
  {
   "cell_type": "code",
   "execution_count": null,
   "metadata": {},
   "outputs": [],
   "source": [
    "from PIL import Image\n",
    "\n",
    "# 画像を開く\n",
    "img = Image.open(\"../resource/MSD-System-04-300x139.png\")\n",
    "\n",
    "# RGBA（透過あり）をRGB（透過なし）に変換し、白背景を設定\n",
    "white_bg = Image.new(\"RGB\", img.size, (255, 255, 255))  # 白背景作成\n",
    "white_bg.paste(img, (0, 0), img)  # 透過部分に白背景を適用\n",
    "\n",
    "# 変換後の画像を保存\n",
    "white_bg.save(\"output.jpg\", \"JPEG\")  # JPEGにすると完全に透過なし\n",
    "white_bg.save(\"output.png\", \"PNG\")   # PNGでも透過なし\n"
   ]
  }
 ],
 "metadata": {
  "kernelspec": {
   "display_name": "Python 3",
   "language": "python",
   "name": "python3"
  },
  "language_info": {
   "codemirror_mode": {
    "name": "ipython",
    "version": 3
   },
   "file_extension": ".py",
   "mimetype": "text/x-python",
   "name": "python",
   "nbconvert_exporter": "python",
   "pygments_lexer": "ipython3",
   "version": "3.10.12"
  }
 },
 "nbformat": 4,
 "nbformat_minor": 2
}
