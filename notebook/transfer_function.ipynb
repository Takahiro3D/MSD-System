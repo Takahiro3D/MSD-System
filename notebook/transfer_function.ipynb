{
 "cells": [
  {
   "cell_type": "markdown",
   "metadata": {},
   "source": [
    "# 伝達関数\n",
    "\n",
    "## Reference\n",
    "\n",
    "- [伝達関数を使ったシステムモデル](https://tajimarobotics.com/mass-spring-damper-system-tf/)\n",
    "- [ラプラス変換とその使い方１<基礎編>](https://jeea.or.jp/course/contents/01131/)"
   ]
  },
  {
   "cell_type": "markdown",
   "metadata": {},
   "source": [
    "## モデル\n",
    "\n",
    "![](../resource/MSD-System.png)  \n",
    "出典: [質量-ばね-ダンパーシステムの運動を求める](https://tajimarobotics.com/damped-mass-spring-system/)\n",
    "\n",
    "\n",
    "## 運動方程式\n",
    "\n",
    "$$\n",
    "m\\ddot{x}(t) + c\\dot{x}(t) + kx(t) = f(t)\n",
    "$$\n",
    "\n",
    "$f(t)$は入力  \n",
    "$kx(t)$はばねの復元力  \n",
    "$c\\dot{x}(t)$はダンパーの抵抗力"
   ]
  },
  {
   "cell_type": "markdown",
   "metadata": {},
   "source": [
    "## 伝達関数の導出\n",
    "\n",
    "運動方程式をラプラス変換する。  \n",
    "\n",
    "### ラプラス変換の計算\n",
    "\n",
    "ラプラス変換の公式\n",
    "\n",
    "$$\n",
    "F(s) = \\int_{0}^{\\infty} f(t) e^{-st} dt\n",
    "$$\n",
    "\n",
    "\n",
    "ラプラス変換後の関数を以下のように置く。  \n",
    "\n",
    "$$\n",
    "\\mathcal{L}[f(t)] = F(s) \\\\\n",
    "\\mathcal{L}[x(t)] = X(s)\n",
    "$$\n",
    "\n",
    "微分形の関数は部分積分法で導出できる。  \n",
    "$e^{-st}$を微分項とすると\n",
    "\n",
    "$$\n",
    "\\begin{equation}\n",
    "\\begin{split}\n",
    "\\int_{0}^{\\infty} f'(t) e^{-st} dt \n",
    "　&= [f(t) e^{-st}]_{0}^{\\infty} - \\int_{0}^{\\infty} f(t) (-s)e^{-st} dt \\\\\n",
    "  &= -f(0) + s \\int_{0}^{\\infty} f(t) e^{-st} dt \\\\\n",
    "  &= sF(s) - f(0)\n",
    "\\end{split}\n",
    "\\end{equation}\n",
    "$$\n",
    "\n",
    "二回微分形の場合も同様に求められる\n",
    "\n",
    "$$\n",
    "\\begin{equation}\n",
    "\\begin{split}\n",
    "\\int_{0}^{\\infty} f''(t) e^{-st} dt \n",
    "　&= [f(t)' e^{-st}]_{0}^{\\infty} - \\int_{0}^{\\infty} f'(t) (-s)e^{-st} dt \\\\\n",
    "  &= -f'(0) + s \\int_{0}^{\\infty} f'(t) e^{-st} dt \\\\\n",
    "  &= -f'(0) + s {sF(s) - f(0)} \\\\\n",
    "  &= s^2F(s) - sf(0) - f'(0)\n",
    "\\end{split}\n",
    "\\end{equation}\n",
    "$$\n"
   ]
  },
  {
   "cell_type": "markdown",
   "metadata": {},
   "source": [
    "## 運動方程式のラプラス変換\n",
    "\n",
    "初期条件は $x(0)=0, \\dot{x}(0)=0$にすると、\n",
    "\n",
    "$$\n",
    "mx^2X(s) + csX(s) + kX(s) = F(s)\n",
    "$$\n",
    "\n",
    "整理すると、\n",
    "\n",
    "$$\n",
    "(ms^2 + cs + k)X(s) = F(s)\n",
    "$$\n",
    "\n",
    "伝達関数は以下のように定義されている。\n",
    "\n",
    "$$\n",
    "G(s) = \\frac{X(s)}{F(s)}\n",
    "$$\n",
    "\n",
    "よって、\n",
    "\n",
    "$$\n",
    "G(s) = \\frac{1}{ms^2 + cs + k}\n",
    "$$"
   ]
  }
 ],
 "metadata": {
  "language_info": {
   "name": "python"
  }
 },
 "nbformat": 4,
 "nbformat_minor": 2
}
